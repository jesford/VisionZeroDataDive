{
 "cells": [
  {
   "cell_type": "markdown",
   "metadata": {},
   "source": [
    "# Vision Zero Data Dive"
   ]
  },
  {
   "cell_type": "code",
   "execution_count": 1,
   "metadata": {
    "collapsed": true
   },
   "outputs": [],
   "source": [
    "import numpy as np\n",
    "import pandas as pd\n",
    "import matplotlib.pyplot as plt\n",
    "% matplotlib inline"
   ]
  },
  {
   "cell_type": "code",
   "execution_count": 2,
   "metadata": {
    "collapsed": true
   },
   "outputs": [],
   "source": [
    "import warnings\n",
    "warnings.filterwarnings('ignore')"
   ]
  },
  {
   "cell_type": "code",
   "execution_count": 3,
   "metadata": {
    "collapsed": false
   },
   "outputs": [],
   "source": [
    "exp = pd.read_csv('OBJ1_streets_exposure.csv')"
   ]
  },
  {
   "cell_type": "markdown",
   "metadata": {},
   "source": [
    "## Just use rows that have values for adt (average daily traffic)"
   ]
  },
  {
   "cell_type": "code",
   "execution_count": 4,
   "metadata": {
    "collapsed": false
   },
   "outputs": [
    {
     "data": {
      "text/plain": [
       "(5066, 93)"
      ]
     },
     "execution_count": 4,
     "metadata": {},
     "output_type": "execute_result"
    }
   ],
   "source": [
    "df = exp[np.isfinite(exp['adt'])]\n",
    "df.shape"
   ]
  },
  {
   "cell_type": "markdown",
   "metadata": {},
   "source": [
    "## Filter out non-numerical data columns"
   ]
  },
  {
   "cell_type": "code",
   "execution_count": 5,
   "metadata": {
    "collapsed": false
   },
   "outputs": [
    {
     "data": {
      "text/plain": [
       "(5066, 78)"
      ]
     },
     "execution_count": 5,
     "metadata": {},
     "output_type": "execute_result"
    }
   ],
   "source": [
    "#no objects, just numbers\n",
    "noobj = df.select_dtypes(exclude=[object])\n",
    "noobj.shape"
   ]
  },
  {
   "cell_type": "code",
   "execution_count": 6,
   "metadata": {
    "collapsed": true
   },
   "outputs": [],
   "source": [
    "data = noobj.ix[:, noobj.columns != 'adt']\n",
    "data = data.fillna(value=0)  # fill in nans with zero"
   ]
  },
  {
   "cell_type": "code",
   "execution_count": 7,
   "metadata": {
    "collapsed": false
   },
   "outputs": [
    {
     "data": {
      "text/plain": [
       "array([[6, 1011, 100190, ..., 0.0, -122.341962263, 47.6106836074],\n",
       "       [12, 1931, 4650220, ..., 0.0, -122.31469522299999, 47.5833419249],\n",
       "       [26, 8730, 50450230, ..., 0.0, -122.350020753, 47.6121871535],\n",
       "       ..., \n",
       "       [23756, 11876, 86650140, ..., 0.0, -122.32736021299999, 47.613438162],\n",
       "       [23765, 9759, 60750620, ..., 0.0, -122.31228348299999,\n",
       "        47.548061151000006],\n",
       "       [23768, 1682, 3400600, ..., 0.0, -122.317314221, 47.548929465]], dtype=object)"
      ]
     },
     "execution_count": 7,
     "metadata": {},
     "output_type": "execute_result"
    }
   ],
   "source": [
    "# all the data that is not object dtype\n",
    "X_train = np.array(data)\n",
    "X_train"
   ]
  },
  {
   "cell_type": "code",
   "execution_count": 8,
   "metadata": {
    "collapsed": false
   },
   "outputs": [
    {
     "data": {
      "text/plain": [
       "array([ 19396.,   8972.,  13492., ...,   1488.,   1165.,   1268.])"
      ]
     },
     "execution_count": 8,
     "metadata": {},
     "output_type": "execute_result"
    }
   ],
   "source": [
    "Y_train = np.array(df['adt'])\n",
    "Y_train"
   ]
  },
  {
   "cell_type": "code",
   "execution_count": 9,
   "metadata": {
    "collapsed": true
   },
   "outputs": [],
   "source": [
    "from sklearn import cross_validation\n",
    "from sklearn.ensemble import RandomForestRegressor"
   ]
  },
  {
   "cell_type": "code",
   "execution_count": 10,
   "metadata": {
    "collapsed": true
   },
   "outputs": [],
   "source": [
    "model = RandomForestRegressor(n_estimators = 10)"
   ]
  },
  {
   "cell_type": "markdown",
   "metadata": {},
   "source": [
    "## Baseline of R$^2$~80% for all numerical data\n",
    "- non-finite values filled in with zeros\n",
    "- no feature scaling"
   ]
  },
  {
   "cell_type": "code",
   "execution_count": 11,
   "metadata": {
    "collapsed": false
   },
   "outputs": [
    {
     "data": {
      "text/plain": [
       "0.80278120231620709"
      ]
     },
     "execution_count": 11,
     "metadata": {},
     "output_type": "execute_result"
    }
   ],
   "source": [
    "scores = cross_validation.cross_val_score(model, X_train, y=Y_train, cv=10, scoring='r2')\n",
    "scores.mean()"
   ]
  },
  {
   "cell_type": "markdown",
   "metadata": {},
   "source": [
    "## Try log-transform of adt (Y_train)"
   ]
  },
  {
   "cell_type": "code",
   "execution_count": 12,
   "metadata": {
    "collapsed": false
   },
   "outputs": [
    {
     "data": {
      "text/plain": [
       "0.82332148355650503"
      ]
     },
     "execution_count": 12,
     "metadata": {},
     "output_type": "execute_result"
    }
   ],
   "source": [
    "Y_train_log = np.log(Y_train)\n",
    "scores = cross_validation.cross_val_score(model, X_train, y=Y_train_log, cv=10, scoring='r2')\n",
    "scores.mean()"
   ]
  },
  {
   "cell_type": "markdown",
   "metadata": {
    "collapsed": false
   },
   "source": [
    "## Scale the training data"
   ]
  },
  {
   "cell_type": "code",
   "execution_count": 13,
   "metadata": {
    "collapsed": true
   },
   "outputs": [],
   "source": [
    "from sklearn import preprocessing"
   ]
  },
  {
   "cell_type": "code",
   "execution_count": 14,
   "metadata": {
    "collapsed": false
   },
   "outputs": [
    {
     "name": "stderr",
     "output_type": "stream",
     "text": [
      "/Users/jesford/anaconda/envs/py3.5/lib/python3.5/site-packages/sklearn/utils/validation.py:420: DataConversionWarning: Data with input dtype object was converted to float64 by StandardScaler.\n",
      "  warnings.warn(msg, DataConversionWarning)\n",
      "/Users/jesford/anaconda/envs/py3.5/lib/python3.5/site-packages/sklearn/utils/validation.py:420: DataConversionWarning: Data with input dtype object was converted to float64 by StandardScaler.\n",
      "  warnings.warn(msg, DataConversionWarning)\n"
     ]
    }
   ],
   "source": [
    "scaler = preprocessing.StandardScaler().fit(X_train)\n",
    "X_train_transformed = scaler.transform(X_train)"
   ]
  },
  {
   "cell_type": "code",
   "execution_count": 15,
   "metadata": {
    "collapsed": false
   },
   "outputs": [
    {
     "data": {
      "text/plain": [
       "0.81674273890906601"
      ]
     },
     "execution_count": 15,
     "metadata": {},
     "output_type": "execute_result"
    }
   ],
   "source": [
    "scores = cross_validation.cross_val_score(model, X_train_transformed, \n",
    "                                          y=Y_train_log, cv=10, scoring='r2')\n",
    "scores.mean()"
   ]
  },
  {
   "cell_type": "markdown",
   "metadata": {},
   "source": [
    "## Feature Importance"
   ]
  },
  {
   "cell_type": "code",
   "execution_count": 16,
   "metadata": {
    "collapsed": false
   },
   "outputs": [],
   "source": [
    "model.fit(X_train_transformed, y=Y_train_log)\n",
    "importances = model.feature_importances_"
   ]
  },
  {
   "cell_type": "code",
   "execution_count": 17,
   "metadata": {
    "collapsed": false
   },
   "outputs": [
    {
     "data": {
      "image/png": "[encoded data removed]",
      "text/plain": [
       "<matplotlib.figure.Figure at 0x11ca2e438>"
      ]
     },
     "metadata": {},
     "output_type": "display_data"
    }
   ],
   "source": [
    "order = np.argsort(importances)[::-1]\n",
    "order\n",
    "plt.bar(range(X_train.shape[1]), importances[order])\n",
    "plt.xticks(range(X_train.shape[1]), data.columns.values[order], rotation=45)\n",
    "plt.xlim([0,10])\n",
    "plt.title('Feature Importance for Random Forest Regressor')\n",
    "plt.tight_layout()\n",
    "plt.savefig('feature_importance.png')"
   ]
  },
  {
   "cell_type": "code",
   "execution_count": 18,
   "metadata": {
    "collapsed": false
   },
   "outputs": [
    {
     "data": {
      "text/html": [
       "<div>\n",
       "<table border=\"1\" class=\"dataframe\">\n",
       "  <thead>\n",
       "    <tr style=\"text-align: right;\">\n",
       "      <th></th>\n",
       "      <th>Unnamed: 0</th>\n",
       "      <th>compkey</th>\n",
       "      <th>unitidsort</th>\n",
       "      <th>pvmtcondin</th>\n",
       "      <th>mjtrk_str</th>\n",
       "      <th>rank_artclass</th>\n",
       "      <th>surfacewid</th>\n",
       "      <th>oneway</th>\n",
       "      <th>tranclass</th>\n",
       "      <th>speedlimit</th>\n",
       "      <th>...</th>\n",
       "      <th>inds_cnt</th>\n",
       "      <th>res1_cnt</th>\n",
       "      <th>res2_cnt</th>\n",
       "      <th>vac_cnt</th>\n",
       "      <th>commu_cnt</th>\n",
       "      <th>inst_cnt</th>\n",
       "      <th>os_cnt</th>\n",
       "      <th>unkn_cnt</th>\n",
       "      <th>mid_x</th>\n",
       "      <th>mid_y</th>\n",
       "    </tr>\n",
       "  </thead>\n",
       "  <tbody>\n",
       "    <tr>\n",
       "      <th>6</th>\n",
       "      <td>6</td>\n",
       "      <td>1011</td>\n",
       "      <td>100190</td>\n",
       "      <td>73</td>\n",
       "      <td>False</td>\n",
       "      <td>200</td>\n",
       "      <td>52</td>\n",
       "      <td>False</td>\n",
       "      <td>2</td>\n",
       "      <td>30</td>\n",
       "      <td>...</td>\n",
       "      <td>0</td>\n",
       "      <td>0</td>\n",
       "      <td>4</td>\n",
       "      <td>0</td>\n",
       "      <td>11</td>\n",
       "      <td>0</td>\n",
       "      <td>0</td>\n",
       "      <td>0</td>\n",
       "      <td>-122.341962</td>\n",
       "      <td>47.610684</td>\n",
       "    </tr>\n",
       "    <tr>\n",
       "      <th>12</th>\n",
       "      <td>12</td>\n",
       "      <td>1931</td>\n",
       "      <td>4650220</td>\n",
       "      <td>36</td>\n",
       "      <td>False</td>\n",
       "      <td>100</td>\n",
       "      <td>42</td>\n",
       "      <td>False</td>\n",
       "      <td>3</td>\n",
       "      <td>30</td>\n",
       "      <td>...</td>\n",
       "      <td>0</td>\n",
       "      <td>13</td>\n",
       "      <td>15</td>\n",
       "      <td>0</td>\n",
       "      <td>1</td>\n",
       "      <td>0</td>\n",
       "      <td>0</td>\n",
       "      <td>0</td>\n",
       "      <td>-122.314695</td>\n",
       "      <td>47.583342</td>\n",
       "    </tr>\n",
       "    <tr>\n",
       "      <th>26</th>\n",
       "      <td>26</td>\n",
       "      <td>8730</td>\n",
       "      <td>50450230</td>\n",
       "      <td>74</td>\n",
       "      <td>True</td>\n",
       "      <td>300</td>\n",
       "      <td>47</td>\n",
       "      <td>False</td>\n",
       "      <td>3</td>\n",
       "      <td>30</td>\n",
       "      <td>...</td>\n",
       "      <td>0</td>\n",
       "      <td>0</td>\n",
       "      <td>0</td>\n",
       "      <td>1</td>\n",
       "      <td>9</td>\n",
       "      <td>2</td>\n",
       "      <td>0</td>\n",
       "      <td>0</td>\n",
       "      <td>-122.350021</td>\n",
       "      <td>47.612187</td>\n",
       "    </tr>\n",
       "    <tr>\n",
       "      <th>28</th>\n",
       "      <td>28</td>\n",
       "      <td>19649</td>\n",
       "      <td>155900080</td>\n",
       "      <td>95</td>\n",
       "      <td>False</td>\n",
       "      <td>300</td>\n",
       "      <td>42</td>\n",
       "      <td>False</td>\n",
       "      <td>3</td>\n",
       "      <td>30</td>\n",
       "      <td>...</td>\n",
       "      <td>0</td>\n",
       "      <td>14</td>\n",
       "      <td>16</td>\n",
       "      <td>2</td>\n",
       "      <td>1</td>\n",
       "      <td>3</td>\n",
       "      <td>0</td>\n",
       "      <td>5</td>\n",
       "      <td>-122.321600</td>\n",
       "      <td>47.526461</td>\n",
       "    </tr>\n",
       "    <tr>\n",
       "      <th>32</th>\n",
       "      <td>32</td>\n",
       "      <td>18441</td>\n",
       "      <td>145400320</td>\n",
       "      <td>92</td>\n",
       "      <td>False</td>\n",
       "      <td>200</td>\n",
       "      <td>30</td>\n",
       "      <td>False</td>\n",
       "      <td>3</td>\n",
       "      <td>30</td>\n",
       "      <td>...</td>\n",
       "      <td>0</td>\n",
       "      <td>0</td>\n",
       "      <td>5</td>\n",
       "      <td>1</td>\n",
       "      <td>4</td>\n",
       "      <td>2</td>\n",
       "      <td>0</td>\n",
       "      <td>0</td>\n",
       "      <td>-122.398977</td>\n",
       "      <td>47.667471</td>\n",
       "    </tr>\n",
       "  </tbody>\n",
       "</table>\n",
       "<p>5 rows × 77 columns</p>\n",
       "</div>"
      ],
      "text/plain": [
       "    Unnamed: 0  compkey  unitidsort  pvmtcondin mjtrk_str  rank_artclass  \\\n",
       "6            6     1011      100190          73     False            200   \n",
       "12          12     1931     4650220          36     False            100   \n",
       "26          26     8730    50450230          74      True            300   \n",
       "28          28    19649   155900080          95     False            300   \n",
       "32          32    18441   145400320          92     False            200   \n",
       "\n",
       "    surfacewid oneway  tranclass  speedlimit    ...      inds_cnt  res1_cnt  \\\n",
       "6           52  False          2          30    ...             0         0   \n",
       "12          42  False          3          30    ...             0        13   \n",
       "26          47  False          3          30    ...             0         0   \n",
       "28          42  False          3          30    ...             0        14   \n",
       "32          30  False          3          30    ...             0         0   \n",
       "\n",
       "    res2_cnt  vac_cnt commu_cnt inst_cnt os_cnt unkn_cnt       mid_x  \\\n",
       "6          4        0        11        0      0        0 -122.341962   \n",
       "12        15        0         1        0      0        0 -122.314695   \n",
       "26         0        1         9        2      0        0 -122.350021   \n",
       "28        16        2         1        3      0        5 -122.321600   \n",
       "32         5        1         4        2      0        0 -122.398977   \n",
       "\n",
       "        mid_y  \n",
       "6   47.610684  \n",
       "12  47.583342  \n",
       "26  47.612187  \n",
       "28  47.526461  \n",
       "32  47.667471  \n",
       "\n",
       "[5 rows x 77 columns]"
      ]
     },
     "execution_count": 18,
     "metadata": {},
     "output_type": "execute_result"
    }
   ],
   "source": [
    "data.head()"
   ]
  },
  {
   "cell_type": "markdown",
   "metadata": {
    "collapsed": true
   },
   "source": [
    "## Output Predictions\n",
    "Output a table of **unitidsort** and predicted **adt**"
   ]
  },
  {
   "cell_type": "code",
   "execution_count": 19,
   "metadata": {
    "collapsed": false
   },
   "outputs": [],
   "source": [
    "# data to predict adt for...\n",
    "df2 = exp[np.isfinite(exp['adt']) == False]\n",
    "noobj2 = df2.select_dtypes(exclude=[object])\n",
    "data2 = noobj2.ix[:, noobj2.columns != 'adt']\n",
    "data2 = data2.fillna(value=0)\n",
    "X_predict = np.array(data2)"
   ]
  },
  {
   "cell_type": "code",
   "execution_count": 20,
   "metadata": {
    "collapsed": false
   },
   "outputs": [],
   "source": [
    "model.fit(X_train_transformed, y=Y_train_log)\n",
    "log_adt_predicted = model.predict(X_predict)"
   ]
  },
  {
   "cell_type": "code",
   "execution_count": 21,
   "metadata": {
    "collapsed": false
   },
   "outputs": [
    {
     "data": {
      "text/plain": [
       "array([  6454.09910435,  11309.99147945,   5162.13997175, ...,\n",
       "         3427.66971212,   6380.42978687,   6361.84893336])"
      ]
     },
     "execution_count": 21,
     "metadata": {},
     "output_type": "execute_result"
    }
   ],
   "source": [
    "adt_predicted = np.e**log_adt_predicted\n",
    "adt_predicted"
   ]
  },
  {
   "cell_type": "code",
   "execution_count": 22,
   "metadata": {
    "collapsed": false
   },
   "outputs": [],
   "source": [
    "output = pd.DataFrame({'unitidsort': np.array(data2['unitidsort']), \n",
    "                       'adt_predicted':adt_predicted})"
   ]
  },
  {
   "cell_type": "code",
   "execution_count": 23,
   "metadata": {
    "collapsed": false
   },
   "outputs": [
    {
     "data": {
      "text/html": [
       "<div>\n",
       "<table border=\"1\" class=\"dataframe\">\n",
       "  <thead>\n",
       "    <tr style=\"text-align: right;\">\n",
       "      <th></th>\n",
       "      <th>adt_predicted</th>\n",
       "      <th>unitidsort</th>\n",
       "    </tr>\n",
       "  </thead>\n",
       "  <tbody>\n",
       "    <tr>\n",
       "      <th>0</th>\n",
       "      <td>6454.099104</td>\n",
       "      <td>111550150</td>\n",
       "    </tr>\n",
       "    <tr>\n",
       "      <th>1</th>\n",
       "      <td>11309.991479</td>\n",
       "      <td>23750010</td>\n",
       "    </tr>\n",
       "    <tr>\n",
       "      <th>2</th>\n",
       "      <td>5162.139972</td>\n",
       "      <td>135200465</td>\n",
       "    </tr>\n",
       "    <tr>\n",
       "      <th>3</th>\n",
       "      <td>6185.074982</td>\n",
       "      <td>8450240</td>\n",
       "    </tr>\n",
       "    <tr>\n",
       "      <th>4</th>\n",
       "      <td>7336.139687</td>\n",
       "      <td>131450080</td>\n",
       "    </tr>\n",
       "  </tbody>\n",
       "</table>\n",
       "</div>"
      ],
      "text/plain": [
       "   adt_predicted  unitidsort\n",
       "0    6454.099104   111550150\n",
       "1   11309.991479    23750010\n",
       "2    5162.139972   135200465\n",
       "3    6185.074982     8450240\n",
       "4    7336.139687   131450080"
      ]
     },
     "execution_count": 23,
     "metadata": {},
     "output_type": "execute_result"
    }
   ],
   "source": [
    "output.head()"
   ]
  },
  {
   "cell_type": "code",
   "execution_count": 24,
   "metadata": {
    "collapsed": true
   },
   "outputs": [],
   "source": [
    "output.to_csv('prediction.csv', index=False)"
   ]
  },
  {
   "cell_type": "markdown",
   "metadata": {},
   "source": [
    "## Try some different models...\n",
    "- DecisionTreeRegressor\n",
    "- Support Vector Regression "
   ]
  },
  {
   "cell_type": "code",
   "execution_count": 25,
   "metadata": {
    "collapsed": true
   },
   "outputs": [],
   "source": [
    "from sklearn.tree import DecisionTreeRegressor"
   ]
  },
  {
   "cell_type": "code",
   "execution_count": 26,
   "metadata": {
    "collapsed": false
   },
   "outputs": [
    {
     "data": {
      "text/plain": [
       "0.71044153912006047"
      ]
     },
     "execution_count": 26,
     "metadata": {},
     "output_type": "execute_result"
    }
   ],
   "source": [
    "dtr1 = DecisionTreeRegressor(max_depth=2)\n",
    "cross_validation.cross_val_score(dtr1, X_train_transformed, \n",
    "                                 y=Y_train_log, cv=10, scoring='r2').mean()"
   ]
  },
  {
   "cell_type": "code",
   "execution_count": 27,
   "metadata": {
    "collapsed": false
   },
   "outputs": [
    {
     "data": {
      "text/plain": [
       "0.78331855760526414"
      ]
     },
     "execution_count": 27,
     "metadata": {},
     "output_type": "execute_result"
    }
   ],
   "source": [
    "dtr2 = DecisionTreeRegressor(max_depth=5)\n",
    "cross_validation.cross_val_score(dtr2, X_train_transformed, \n",
    "                                 y=Y_train_log, cv=10, scoring='r2').mean()"
   ]
  },
  {
   "cell_type": "code",
   "execution_count": 28,
   "metadata": {
    "collapsed": false
   },
   "outputs": [
    {
     "data": {
      "text/plain": [
       "0.73691388845330796"
      ]
     },
     "execution_count": 28,
     "metadata": {},
     "output_type": "execute_result"
    }
   ],
   "source": [
    "dtr3 = DecisionTreeRegressor(max_depth=10)\n",
    "cross_validation.cross_val_score(dtr3, X_train_transformed, \n",
    "                                 y=Y_train_log, cv=10, scoring='r2').mean()"
   ]
  },
  {
   "cell_type": "code",
   "execution_count": 29,
   "metadata": {
    "collapsed": true
   },
   "outputs": [],
   "source": [
    "from sklearn.svm import SVR"
   ]
  },
  {
   "cell_type": "code",
   "execution_count": 31,
   "metadata": {
    "collapsed": false
   },
   "outputs": [
    {
     "data": {
      "text/plain": [
       "0.63699360486109868"
      ]
     },
     "execution_count": 31,
     "metadata": {},
     "output_type": "execute_result"
    }
   ],
   "source": [
    "svr = SVR(kernel='rbf', C=1e3, gamma=0.1)\n",
    "cross_validation.cross_val_score(svr, X_train_transformed, \n",
    "                                 y=Y_train_log, cv=10, scoring='r2').mean()"
   ]
  },
  {
   "cell_type": "markdown",
   "metadata": {},
   "source": [
    "### Result: Random Forest worked the best of these models"
   ]
  }
 ],
 "metadata": {
  "kernelspec": {
   "display_name": "Python 3",
   "language": "python",
   "name": "python3"
  },
  "language_info": {
   "codemirror_mode": {
    "name": "ipython",
    "version": 3
   },
   "file_extension": ".py",
   "mimetype": "text/x-python",
   "name": "python",
   "nbconvert_exporter": "python",
   "pygments_lexer": "ipython3",
   "version": "3.5.1"
  }
 },
 "nbformat": 4,
 "nbformat_minor": 0
}
